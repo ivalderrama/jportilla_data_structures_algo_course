{
 "cells": [
  {
   "cell_type": "markdown",
   "metadata": {},
   "source": [
    "# Array Pair Sum\n",
    "\n",
    "## Problem\n",
    "\n",
    "Given an integer array, output all the ** *unique* ** pairs that sum up to a specific value **k**.\n",
    "\n",
    "So the input:\n",
    "    \n",
    "    pair_sum([1,3,2,2],4)\n",
    "\n",
    "would return **2** pairs:\n",
    "\n",
    "     (1,3)\n",
    "     (2,2)\n",
    "\n",
    "**NOTE: FOR TESTING PURPOSES CHANGE YOUR FUNCTION SO IT OUTPUTS THE NUMBER OF PAIRS**\n",
    "\n",
    "## Solution\n",
    "\n",
    "Fill out your solution below:"
   ]
  },
  {
   "cell_type": "code",
   "execution_count": 1,
   "metadata": {},
   "outputs": [],
   "source": [
    "arr = [1,3,2,2]"
   ]
  },
  {
   "cell_type": "code",
   "execution_count": 2,
   "metadata": {},
   "outputs": [
    {
     "name": "stdout",
     "output_type": "stream",
     "text": [
      "2\n",
      "2\n",
      "3\n",
      "1\n"
     ]
    }
   ],
   "source": [
    "for i in range(len(arr))[::-1]:\n",
    "    print(arr[i])"
   ]
  },
  {
   "cell_type": "code",
   "execution_count": 3,
   "metadata": {},
   "outputs": [
    {
     "name": "stdout",
     "output_type": "stream",
     "text": [
      "2 1\n",
      "2 3\n",
      "2 2\n",
      "2 2\n",
      "2 1\n",
      "2 3\n",
      "2 2\n",
      "2 2\n",
      "3 1\n",
      "3 3\n",
      "3 2\n",
      "3 2\n",
      "1 1\n",
      "1 3\n",
      "1 2\n",
      "1 2\n",
      "{(1, 2), (3, 2), (1, 3), (3, 3), (3, 1), (2, 1), (2, 3), (2, 2), (1, 1)}\n",
      "9\n"
     ]
    }
   ],
   "source": [
    "my_list = []\n",
    "\n",
    "for i in arr[::-1]:\n",
    "    for j in arr:\n",
    "        print(i,j)\n",
    "        my_list.append((i,j))\n",
    "        \n",
    "my_set = set(my_list)\n",
    "\n",
    "print(my_set)\n",
    "print(len(my_set))"
   ]
  },
  {
   "cell_type": "code",
   "execution_count": 4,
   "metadata": {},
   "outputs": [
    {
     "name": "stdout",
     "output_type": "stream",
     "text": [
      "(1, 2) (2, 1)\n",
      "(3, 2) (2, 3)\n",
      "(1, 3) (3, 1)\n",
      "(3, 3) (3, 3)\n",
      "(3, 1) (1, 3)\n",
      "(2, 1) (1, 2)\n",
      "(2, 3) (3, 2)\n",
      "(2, 2) (2, 2)\n",
      "(1, 1) (1, 1)\n",
      "[(1, 3), (2, 2)]\n"
     ]
    }
   ],
   "source": [
    "k = 4\n",
    "\n",
    "new_lst = []\n",
    "\n",
    "for tup in my_set:\n",
    "    print(tup, tup[::-1])\n",
    "    if tup not in new_lst and tup[::-1] not in new_lst:\n",
    "        if sum(tup) == k:\n",
    "            new_lst.append(tup)\n",
    "        \n",
    "print(new_lst)"
   ]
  },
  {
   "cell_type": "code",
   "execution_count": 5,
   "metadata": {},
   "outputs": [],
   "source": [
    "def pair_sum(arr,k):\n",
    "    my_list = []\n",
    "    \n",
    "    new_lst = []\n",
    "    \n",
    "    for i in arr[::-1]: # list the array backwards\n",
    "        for j in arr: # list the array against the backwards array\n",
    "            # print(i,j)\n",
    "            my_list.append((i,j)) # append each as a tuple\n",
    "        \n",
    "    my_set = set(my_list) # cast the list into a set to remove duplicates\n",
    "    \n",
    "    for tup in my_set:\n",
    "        # print(tup, tup[::-1])\n",
    "        if tup not in new_lst and tup[::-1] not in new_lst: # checking for tuple and reverse tuple\n",
    "            if sum(tup) == k: # checking if tuple matches k value \n",
    "                new_lst.append(tup)\n",
    "    \n",
    "    print(new_lst)\n",
    "    return(len(new_lst))\n",
    "    "
   ]
  },
  {
   "cell_type": "code",
   "execution_count": 6,
   "metadata": {},
   "outputs": [
    {
     "name": "stdout",
     "output_type": "stream",
     "text": [
      "[(1, 3), (2, 2)]\n"
     ]
    },
    {
     "data": {
      "text/plain": [
       "2"
      ]
     },
     "execution_count": 6,
     "metadata": {},
     "output_type": "execute_result"
    }
   ],
   "source": [
    "pair_sum([1,3,2,2],4)"
   ]
  },
  {
   "cell_type": "markdown",
   "metadata": {},
   "source": [
    "# Test Your Solution"
   ]
  },
  {
   "cell_type": "code",
   "execution_count": 7,
   "metadata": {},
   "outputs": [
    {
     "name": "stdout",
     "output_type": "stream",
     "text": [
      "[(7, 3), (5, 5), (8, 2), (-1, 11), (6, 4), (1, 9)]\n",
      "[(1, 2)]\n",
      "[(1, 3), (2, 2)]\n",
      "ALL TEST CASES PASSED\n"
     ]
    }
   ],
   "source": [
    "\"\"\"\n",
    "RUN THIS CELL TO TEST YOUR SOLUTION\n",
    "\"\"\"\n",
    "from nose.tools import assert_equal\n",
    "\n",
    "class TestPair(object):\n",
    "    \n",
    "    def test(self,sol):\n",
    "        assert_equal(sol([1,9,2,8,3,7,4,6,5,5,13,14,11,13,-1],10),6)\n",
    "        assert_equal(sol([1,2,3,1],3),1)\n",
    "        assert_equal(sol([1,3,2,2],4),2)\n",
    "        print('ALL TEST CASES PASSED')\n",
    "        \n",
    "#Run tests\n",
    "t = TestPair()\n",
    "t.test(pair_sum)\n",
    "    "
   ]
  },
  {
   "cell_type": "markdown",
   "metadata": {},
   "source": [
    "## Good Job!"
   ]
  }
 ],
 "metadata": {
  "kernelspec": {
   "display_name": "Python 3",
   "language": "python",
   "name": "python3"
  },
  "language_info": {
   "codemirror_mode": {
    "name": "ipython",
    "version": 3
   },
   "file_extension": ".py",
   "mimetype": "text/x-python",
   "name": "python",
   "nbconvert_exporter": "python",
   "pygments_lexer": "ipython3",
   "version": "3.7.4"
  }
 },
 "nbformat": 4,
 "nbformat_minor": 1
}
