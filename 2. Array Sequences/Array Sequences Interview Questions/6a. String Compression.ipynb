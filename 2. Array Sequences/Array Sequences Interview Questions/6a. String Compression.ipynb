{
 "cells": [
  {
   "cell_type": "markdown",
   "metadata": {},
   "source": [
    "# String Compression\n",
    "\n",
    "## Problem\n",
    "\n",
    "Given a string in the form 'AAAABBBBCCCCCDDEEEE' compress it to become 'A4B4C5D2E4'. For this problem, you can falsely \"compress\" strings of single or double letters. For instance, it is okay for 'AAB' to return 'A2B1' even though this technically takes more space. \n",
    "\n",
    "The function should also be case sensitive, so that a string 'AAAaaa' returns 'A3a3'."
   ]
  },
  {
   "cell_type": "markdown",
   "metadata": {},
   "source": [
    "## Solution\n",
    "Fill out your solution below:"
   ]
  },
  {
   "cell_type": "code",
   "execution_count": 1,
   "metadata": {},
   "outputs": [
    {
     "name": "stdout",
     "output_type": "stream",
     "text": [
      "{'A': 0, 'b': 0, 'D': 0, 'B': 0, 'a': 0, 'C': 0, 'E': 0}\n",
      "{'A': 4, 'b': 6, 'D': 2, 'B': 4, 'a': 1, 'C': 5, 'E': 4}\n",
      "A4B4C5D2E4a1b6\n"
     ]
    }
   ],
   "source": [
    "s = 'AAAABBBBCCCCCDDEEEEabbbbbb'\n",
    "my_set = set(s)\n",
    "\n",
    "my_dict = {i:0 for i in my_set}\n",
    "print(my_dict)\n",
    "\n",
    "for k, v in my_dict.items():\n",
    "    for i in s:\n",
    "        if i == k:\n",
    "            my_dict[k] += 1\n",
    "    \n",
    "print(my_dict)\n",
    "\n",
    "my_word = ''\n",
    "\n",
    "for k,v in sorted(my_dict.items()):\n",
    "#     print(k + str(v))\n",
    "    my_word += k+str(v)\n",
    "    \n",
    "print(my_word)"
   ]
  },
  {
   "cell_type": "code",
   "execution_count": 2,
   "metadata": {},
   "outputs": [],
   "source": [
    "def compress(s):\n",
    "    my_set = set(s)\n",
    "\n",
    "    my_dict = {i:0 for i in my_set}\n",
    "    print(my_dict)\n",
    "\n",
    "    for k, v in my_dict.items():\n",
    "        for i in s:\n",
    "            if i == k:\n",
    "                my_dict[k] += 1\n",
    "\n",
    "    print(my_dict)\n",
    "\n",
    "    my_word = ''\n",
    "    \n",
    "    for k,v  in sorted(my_dict.items()):\n",
    "        my_word += k+str(v)\n",
    "    \n",
    "    print(my_word)\n",
    "    \n",
    "    return my_word"
   ]
  },
  {
   "cell_type": "code",
   "execution_count": 3,
   "metadata": {},
   "outputs": [
    {
     "name": "stdout",
     "output_type": "stream",
     "text": [
      "{'C': 0, 'B': 0, 'A': 0}\n",
      "{'C': 4, 'B': 4, 'A': 5}\n",
      "A5B4C4\n"
     ]
    },
    {
     "data": {
      "text/plain": [
       "'A5B4C4'"
      ]
     },
     "execution_count": 3,
     "metadata": {},
     "output_type": "execute_result"
    }
   ],
   "source": [
    "compress('AAAAABBBBCCCC')"
   ]
  },
  {
   "cell_type": "markdown",
   "metadata": {},
   "source": [
    "# Test Your Solution"
   ]
  },
  {
   "cell_type": "code",
   "execution_count": 4,
   "metadata": {},
   "outputs": [
    {
     "name": "stdout",
     "output_type": "stream",
     "text": [
      "{}\n",
      "{}\n",
      "\n",
      "\n",
      "\n",
      "{'C': 0, 'B': 0, 'A': 0}\n",
      "{'C': 2, 'B': 2, 'A': 2}\n",
      "A2B2C2\n",
      "\n",
      "\n",
      "{'C': 0, 'D': 0, 'B': 0, 'A': 0}\n",
      "{'C': 2, 'D': 5, 'B': 1, 'A': 3}\n",
      "A3B1C2D5\n",
      "\n",
      "\n",
      "ALL TEST CASES PASSED\n"
     ]
    }
   ],
   "source": [
    "\"\"\"\n",
    "RUN THIS CELL TO TEST YOUR SOLUTION\n",
    "\"\"\"\n",
    "from nose.tools import assert_equal\n",
    "\n",
    "class TestCompress(object):\n",
    "\n",
    "    def test(self, sol):\n",
    "        assert_equal(sol(''), '')\n",
    "        print('\\n')\n",
    "        assert_equal(sol('AABBCC'), 'A2B2C2')\n",
    "        print('\\n')\n",
    "        assert_equal(sol('AAABCCDDDDD'), 'A3B1C2D5')\n",
    "        print('\\n')\n",
    "        print('ALL TEST CASES PASSED')\n",
    "        \n",
    "# Run Tests\n",
    "t = TestCompress()\n",
    "t.test(compress)"
   ]
  },
  {
   "cell_type": "markdown",
   "metadata": {},
   "source": [
    "## Good Job!"
   ]
  }
 ],
 "metadata": {
  "kernelspec": {
   "display_name": "Python 3",
   "language": "python",
   "name": "python3"
  },
  "language_info": {
   "codemirror_mode": {
    "name": "ipython",
    "version": 3
   },
   "file_extension": ".py",
   "mimetype": "text/x-python",
   "name": "python",
   "nbconvert_exporter": "python",
   "pygments_lexer": "ipython3",
   "version": "3.7.5"
  }
 },
 "nbformat": 4,
 "nbformat_minor": 1
}
