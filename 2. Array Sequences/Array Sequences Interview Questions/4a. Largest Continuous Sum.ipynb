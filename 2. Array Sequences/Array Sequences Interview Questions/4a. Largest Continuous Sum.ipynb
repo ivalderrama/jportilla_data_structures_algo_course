{
 "cells": [
  {
   "cell_type": "markdown",
   "metadata": {},
   "source": [
    "# Largest Continuous Sum\n",
    "\n",
    "## Problem\n",
    "Given an array of integers (positive and negative) find the largest continuous sum. \n",
    "\n",
    "## Solution\n",
    "\n",
    "Fill out your solution below:"
   ]
  },
  {
   "cell_type": "code",
   "execution_count": 1,
   "metadata": {},
   "outputs": [],
   "source": [
    "def large_cont_sum(arr): \n",
    "    \n",
    "    # Check to see if array is length 0\n",
    "    if len(arr) == 0:\n",
    "        return 0\n",
    "    \n",
    "    # Start the max and current sum at the first element\n",
    "    max_sum = arr[0]\n",
    "    \n",
    "    current_sum = arr[0]\n",
    "    \n",
    "    # For every element in array\n",
    "    for num in arr[1:]:\n",
    "        \n",
    "        # Set current sum as the higher of the two\n",
    "        current_sum = max(current_sum+num, num)\n",
    "        print('Current sum:', current_sum, end=' ')\n",
    "        \n",
    "        # Set max as the higher between the currentSum and the current max\n",
    "        max_sum = max(current_sum, max_sum)\n",
    "        print('Max sum:', max_sum)\n",
    "        \n",
    "    print(max_sum)\n",
    "    return max_sum"
   ]
  },
  {
   "cell_type": "code",
   "execution_count": 2,
   "metadata": {},
   "outputs": [
    {
     "name": "stdout",
     "output_type": "stream",
     "text": [
      "Current sum: 3 Max sum: 3\n",
      "Current sum: 2 Max sum: 3\n",
      "Current sum: 5 Max sum: 5\n",
      "Current sum: 9 Max sum: 9\n",
      "Current sum: 19 Max sum: 19\n",
      "Current sum: 29 Max sum: 29\n",
      "Current sum: 19 Max sum: 29\n",
      "Current sum: 18 Max sum: 29\n",
      "29\n"
     ]
    },
    {
     "data": {
      "text/plain": [
       "29"
      ]
     },
     "execution_count": 2,
     "metadata": {},
     "output_type": "execute_result"
    }
   ],
   "source": [
    "large_cont_sum([1,2,-1,3,4,10,10,-10,-1])"
   ]
  },
  {
   "cell_type": "markdown",
   "metadata": {},
   "source": [
    "____\n",
    "Many times in an interview setting the question also requires you to report back the start and end points of the sum. Keep this in mind and see if you can solve that problem, we'll see it in the mock interview section of the course!"
   ]
  },
  {
   "cell_type": "markdown",
   "metadata": {},
   "source": [
    "# Test Your Solution"
   ]
  },
  {
   "cell_type": "code",
   "execution_count": 3,
   "metadata": {},
   "outputs": [
    {
     "name": "stdout",
     "output_type": "stream",
     "text": [
      "Current sum: 3 Max sum: 3\n",
      "Current sum: 2 Max sum: 3\n",
      "Current sum: 5 Max sum: 5\n",
      "Current sum: 9 Max sum: 9\n",
      "Current sum: 8 Max sum: 9\n",
      "9\n",
      "\n",
      "\n",
      "Current sum: 3 Max sum: 3\n",
      "Current sum: 2 Max sum: 3\n",
      "Current sum: 5 Max sum: 5\n",
      "Current sum: 9 Max sum: 9\n",
      "Current sum: 19 Max sum: 19\n",
      "Current sum: 29 Max sum: 29\n",
      "Current sum: 19 Max sum: 29\n",
      "Current sum: 18 Max sum: 29\n",
      "29\n",
      "\n",
      "\n",
      "Current sum: 1 Max sum: 1\n",
      "1\n",
      "\n",
      "\n",
      "ALL TEST CASES PASSED\n"
     ]
    }
   ],
   "source": [
    "from nose.tools import assert_equal\n",
    "\n",
    "class LargeContTest(object):\n",
    "    def test(self,sol):\n",
    "        assert_equal(sol([1,2,-1,3,4,-1]),9)\n",
    "        print('\\n')\n",
    "        assert_equal(sol([1,2,-1,3,4,10,10,-10,-1]),29)\n",
    "        print('\\n')\n",
    "        assert_equal(sol([-1,1]),1)\n",
    "        print('\\n')\n",
    "        print('ALL TEST CASES PASSED')\n",
    "        \n",
    "#Run Test\n",
    "t = LargeContTest()\n",
    "t.test(large_cont_sum)"
   ]
  },
  {
   "cell_type": "markdown",
   "metadata": {},
   "source": [
    "## Good Job!"
   ]
  }
 ],
 "metadata": {
  "kernelspec": {
   "display_name": "Python 3",
   "language": "python",
   "name": "python3"
  },
  "language_info": {
   "codemirror_mode": {
    "name": "ipython",
    "version": 3
   },
   "file_extension": ".py",
   "mimetype": "text/x-python",
   "name": "python",
   "nbconvert_exporter": "python",
   "pygments_lexer": "ipython3",
   "version": "3.7.5"
  }
 },
 "nbformat": 4,
 "nbformat_minor": 1
}
